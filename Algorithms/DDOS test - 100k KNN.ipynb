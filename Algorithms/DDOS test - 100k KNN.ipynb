{
 "cells": [
  {
   "cell_type": "code",
   "execution_count": 3,
   "metadata": {},
   "outputs": [],
   "source": [
    "import pandas as pd\n",
    "import numpy as np\n",
    "import pyod\n",
    "np.set_printoptions(precision=3)"
   ]
  },
  {
   "cell_type": "code",
   "execution_count": 5,
   "metadata": {},
   "outputs": [],
   "source": [
    "import matplotlib.pyplot as plt\n",
    "from sklearn.decomposition import PCA\n",
    "from pyod.models.knn import KNN"
   ]
  },
  {
   "cell_type": "code",
   "execution_count": 7,
   "metadata": {},
   "outputs": [
    {
     "name": "stderr",
     "output_type": "stream",
     "text": [
      "/home/teste/.local/lib/python3.7/site-packages/IPython/core/interactiveshell.py:3058: DtypeWarning: Columns (21,22) have mixed types. Specify dtype option on import or set low_memory=False.\n",
      "  interactivity=interactivity, compiler=compiler, result=result)\n"
     ]
    }
   ],
   "source": [
    "testing_set = pd.read_csv('testing_set.csv',sep=',',header=0)"
   ]
  },
  {
   "cell_type": "code",
   "execution_count": 26,
   "metadata": {
    "scrolled": false
   },
   "outputs": [],
   "source": [
    "testingSet = testing_set.values\n",
    "for i in range (99839):\n",
    "    if(testingSet[i, 84] == \"ddos\"):\n",
    "        testingSet[i, 84] = 1\n",
    "    else:\n",
    "        testingSet[i, 84] = 0\n",
    "\n",
    "#np.random.shuffle(testingSet)\n",
    "\n",
    "\n",
    "#testingSet = np.delete(testingSet, 16, axis=1)\n",
    "#testingSet = np.delete(testingSet, 17, axis=1)\n",
    "\n",
    "testingSet = np.delete(testingSet, 7, axis=1)\n",
    "testingSet = np.delete(testingSet, 4, axis=1)\n",
    "testingSet = np.delete(testingSet, 2, axis=1)\n",
    "testingSet = np.delete(testingSet, 1, axis=1)\n",
    "testingSet = np.delete(testingSet, 0, axis=1)\n",
    "\n",
    "testingSet = testingSet.astype(float)\n",
    "\n",
    "for i in range (99838, 0, -1):\n",
    "    for j in range(0, 77):\n",
    "        testingSet[i, j] = float(testingSet[i, j])\n",
    "        if (np.isinf(testingSet[i, j]) or np.isnan(testingSet[i, j])):\n",
    "            #print(\"Dropping (\",i,\",\",j,\")\",testingSet[i, j])\n",
    "            testingSet = np.delete(testingSet, i, axis=0)\n",
    "            #testingSet[i, j] = 1.7*np.e**308\n",
    "            \n",
    "y_test = testingSet[:, 79].astype(int)\n",
    "testingSet = np.delete(testingSet, 79, axis=1)"
   ]
  },
  {
   "cell_type": "code",
   "execution_count": 28,
   "metadata": {},
   "outputs": [
    {
     "name": "stdout",
     "output_type": "stream",
     "text": [
      "(99227, 79)\n",
      "0.17293680147540488\n"
     ]
    }
   ],
   "source": [
    "print(testingSet.shape)\n",
    "print(np.sum(y_test)/testingSet.shape[0])"
   ]
  },
  {
   "cell_type": "code",
   "execution_count": 29,
   "metadata": {},
   "outputs": [
    {
     "data": {
      "text/plain": [
       "KNN(algorithm='auto', contamination=0.17293680147540488, leaf_size=30,\n",
       "  method='largest', metric='minkowski', metric_params=None, n_jobs=1,\n",
       "  n_neighbors=5, p=2, radius=1.0)"
      ]
     },
     "execution_count": 29,
     "metadata": {},
     "output_type": "execute_result"
    }
   ],
   "source": [
    "clf_name = 'KNN'\n",
    "clf = KNN(contamination = 0.17293680147540488)\n",
    "clf.fit(testingSet) "
   ]
  },
  {
   "cell_type": "code",
   "execution_count": 30,
   "metadata": {},
   "outputs": [],
   "source": [
    "y_train_pred = clf.labels_  # binary labels (0: inliers, 1: outliers)\n",
    "y_train_scores = clf.decision_scores_  # raw outlier scores\n",
    "\n",
    "y_test_pred = clf.predict(testingSet)  # outlier labels (0 or 1)\n",
    "y_test_scores = clf.decision_function(testingSet)  # outlier scores"
   ]
  },
  {
   "cell_type": "code",
   "execution_count": 31,
   "metadata": {},
   "outputs": [
    {
     "name": "stdout",
     "output_type": "stream",
     "text": [
      "\n",
      "On Test Data:\n",
      "1363  |  15117\n",
      "15797  |  66950 \n",
      "\n",
      "KNN ROC:0.4599, precision @ rank n:0.0824\n"
     ]
    }
   ],
   "source": [
    "from pyod.utils.data import evaluate_print\n",
    "\n",
    "print(\"\\nOn Test Data:\")\n",
    "truePositive = 0\n",
    "trueNegative = 0\n",
    "falsePositive = 0\n",
    "falseNegative = 0\n",
    "\n",
    "for i in range(y_test.size):\n",
    "    if(y_test[i] == 1 and y_test_pred[i] == 1):\n",
    "        truePositive = truePositive+1\n",
    "    elif (y_test[i] == 0 and y_test_pred[i] == 0):\n",
    "        trueNegative = trueNegative+1\n",
    "    elif (y_test[i] == 0 and y_test_pred[i] == 1):\n",
    "        falsePositive = falsePositive+1\n",
    "    else:\n",
    "        falseNegative = falseNegative+1\n",
    "\n",
    "print(truePositive, \" | \", falsePositive)\n",
    "print(falseNegative, \" | \", trueNegative,\"\\n\")\n",
    "\n",
    "evaluate_print(clf_name, y_test, y_test_scores)"
   ]
  },
  {
   "cell_type": "code",
   "execution_count": null,
   "metadata": {},
   "outputs": [],
   "source": []
  }
 ],
 "metadata": {
  "kernelspec": {
   "display_name": "Python 3",
   "language": "python",
   "name": "python3"
  },
  "language_info": {
   "codemirror_mode": {
    "name": "ipython",
    "version": 3
   },
   "file_extension": ".py",
   "mimetype": "text/x-python",
   "name": "python",
   "nbconvert_exporter": "python",
   "pygments_lexer": "ipython3",
   "version": "3.7.3"
  }
 },
 "nbformat": 4,
 "nbformat_minor": 2
}

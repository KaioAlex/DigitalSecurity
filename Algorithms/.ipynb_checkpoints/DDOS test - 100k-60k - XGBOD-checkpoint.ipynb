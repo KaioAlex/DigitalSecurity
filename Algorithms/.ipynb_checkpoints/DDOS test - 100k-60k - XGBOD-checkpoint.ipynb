{
 "cells": [
  {
   "cell_type": "code",
   "execution_count": 1,
   "metadata": {},
   "outputs": [],
   "source": [
    "import pandas as pd\n",
    "import numpy as np\n",
    "import pyod\n",
    "np.set_printoptions(precision=3)"
   ]
  },
  {
   "cell_type": "code",
   "execution_count": 28,
   "metadata": {},
   "outputs": [],
   "source": [
    "import matplotlib.pyplot as plt\n",
    "from sklearn.decomposition import PCA\n",
    "from pyod.models.knn import KNN\n",
    "from pyod.models.xgbod import XGBOD"
   ]
  },
  {
   "cell_type": "code",
   "execution_count": 41,
   "metadata": {},
   "outputs": [
    {
     "name": "stderr",
     "output_type": "stream",
     "text": [
      "C:\\Users\\caioa\\Anaconda3\\lib\\site-packages\\IPython\\core\\interactiveshell.py:3057: DtypeWarning: Columns (21,22) have mixed types. Specify dtype option on import or set low_memory=False.\n",
      "  interactivity=interactivity, compiler=compiler, result=result)\n"
     ]
    }
   ],
   "source": [
    "training_set = pd.read_csv('Balanced_Samples/Sample_100K.csv',sep=',',header=0)\n",
    "testing_set = pd.read_csv('Unbalanced_Samples/Sample_60K.csv',sep=\",\",header=0)"
   ]
  },
  {
   "cell_type": "code",
   "execution_count": 42,
   "metadata": {
    "scrolled": false
   },
   "outputs": [
    {
     "name": "stdout",
     "output_type": "stream",
     "text": [
      "[1 1 1 ... 0 0 0]\n"
     ]
    }
   ],
   "source": [
    "def const_columns():\n",
    "    return 77\n",
    "\n",
    "trainingSet = training_set.values\n",
    "testingSet = testing_set.values\n",
    "\n",
    "#print(testingSet[:,84])\n",
    "for i in range (100000):\n",
    "    if(trainingSet[i, 84] == \"ddos\"):\n",
    "        trainingSet[i, 84] = 1\n",
    "    else:\n",
    "        trainingSet[i, 84] = 0\n",
    "        \n",
    "for i in range (60000):\n",
    "    if(testingSet[i, 84] == \"ddos\"):\n",
    "        testingSet[i, 84] = 1\n",
    "    else:\n",
    "        testingSet[i, 84] = 0\n",
    "\n",
    "#np.random.shuffle(testingSet)\n",
    "\n",
    "\n",
    "testingSet = np.delete(testingSet, 16, axis=1)\n",
    "testingSet = np.delete(testingSet, 17, axis=1)\n",
    "testingSet = np.delete(testingSet, 7, axis=1)\n",
    "testingSet = np.delete(testingSet, 4, axis=1)\n",
    "testingSet = np.delete(testingSet, 2, axis=1)\n",
    "testingSet = np.delete(testingSet, 1, axis=1)\n",
    "testingSet = np.delete(testingSet, 0, axis=1)\n",
    "\n",
    "trainingSet = np.delete(trainingSet, 16, axis=1)\n",
    "trainingSet = np.delete(trainingSet, 17, axis=1)\n",
    "trainingSet = np.delete(trainingSet, 7, axis=1)\n",
    "trainingSet = np.delete(trainingSet, 4, axis=1)\n",
    "trainingSet = np.delete(trainingSet, 2, axis=1)\n",
    "trainingSet = np.delete(trainingSet, 1, axis=1)\n",
    "trainingSet = np.delete(trainingSet, 0, axis=1)\n",
    "\n",
    "testingSet = testingSet.astype(float)\n",
    "trainingSet = trainingSet.astype(float)\n",
    "\n",
    "for i in range (99999, 0, -1):\n",
    "    for j in range(0, const_columns()):\n",
    "        trainingSet[i, j] = float(trainingSet[i, j])\n",
    "        if (np.isinf(trainingSet[i, j]) or np.isnan(trainingSet[i, j])):\n",
    "            #print(\"Dropping (\",i,\",\",j,\")\",testingSet[i, j])\n",
    "            trainingSet = np.delete(trainingSet, i, axis=0)\n",
    "            #testingSet[i, j] = 1.7*np.e**308\n",
    "            \n",
    "for i in range (59999,0,-1):\n",
    "    for j in range(0, const_columns()):\n",
    "        testingSet[i, j] = float(testingSet[i, j])\n",
    "        if (np.isinf(testingSet[i, j]) or np.isnan(testingSet[i, j])):\n",
    "            #print(\"Dropping (\",i,\",\",j,\")\",testingSet[i, j])\n",
    "            testingSet = np.delete(testingSet, i, axis=0)\n",
    "            #testingSet[i, j] = 1.7*np.e**308\n",
    "            \n",
    "#print(testingSet[:,77])            \n",
    "y_test = testingSet[:, const_columns()].astype(int)\n",
    "y_training = trainingSet[:, const_columns()].astype(int)\n",
    "\n",
    "print(y_test)\n",
    "\n",
    "testingSet = np.delete(testingSet, const_columns(), axis=1)\n",
    "trainingSet = np.delete(trainingSet, const_columns(), axis=1)"
   ]
  },
  {
   "cell_type": "code",
   "execution_count": 43,
   "metadata": {},
   "outputs": [
    {
     "name": "stdout",
     "output_type": "stream",
     "text": [
      "(59633, 77)\n",
      "0.17198531014706622\n"
     ]
    }
   ],
   "source": [
    "print(testingSet.shape)\n",
    "print(np.sum(y_test)/testingSet.shape[0])"
   ]
  },
  {
   "cell_type": "code",
   "execution_count": 44,
   "metadata": {},
   "outputs": [
    {
     "name": "stderr",
     "output_type": "stream",
     "text": [
      "C:\\Users\\caioa\\Anaconda3\\lib\\site-packages\\pyod\\models\\base.py:344: UserWarning: y should not be presented in unsupervised learning.\n",
      "  \"y should not be presented in unsupervised learning.\")\n",
      "C:\\Users\\caioa\\Anaconda3\\lib\\site-packages\\sklearn\\ensemble\\iforest.py:247: FutureWarning: behaviour=\"old\" is deprecated and will be removed in version 0.22. Please use behaviour=\"new\", which makes the decision_function change to match other anomaly detection algorithm API.\n",
      "  FutureWarning)\n",
      "C:\\Users\\caioa\\Anaconda3\\lib\\site-packages\\sklearn\\ensemble\\iforest.py:247: FutureWarning: behaviour=\"old\" is deprecated and will be removed in version 0.22. Please use behaviour=\"new\", which makes the decision_function change to match other anomaly detection algorithm API.\n",
      "  FutureWarning)\n",
      "C:\\Users\\caioa\\Anaconda3\\lib\\site-packages\\sklearn\\ensemble\\iforest.py:247: FutureWarning: behaviour=\"old\" is deprecated and will be removed in version 0.22. Please use behaviour=\"new\", which makes the decision_function change to match other anomaly detection algorithm API.\n",
      "  FutureWarning)\n",
      "C:\\Users\\caioa\\Anaconda3\\lib\\site-packages\\sklearn\\ensemble\\iforest.py:247: FutureWarning: behaviour=\"old\" is deprecated and will be removed in version 0.22. Please use behaviour=\"new\", which makes the decision_function change to match other anomaly detection algorithm API.\n",
      "  FutureWarning)\n",
      "C:\\Users\\caioa\\Anaconda3\\lib\\site-packages\\sklearn\\ensemble\\iforest.py:247: FutureWarning: behaviour=\"old\" is deprecated and will be removed in version 0.22. Please use behaviour=\"new\", which makes the decision_function change to match other anomaly detection algorithm API.\n",
      "  FutureWarning)\n",
      "C:\\Users\\caioa\\Anaconda3\\lib\\site-packages\\sklearn\\ensemble\\iforest.py:247: FutureWarning: behaviour=\"old\" is deprecated and will be removed in version 0.22. Please use behaviour=\"new\", which makes the decision_function change to match other anomaly detection algorithm API.\n",
      "  FutureWarning)\n",
      "C:\\Users\\caioa\\Anaconda3\\lib\\site-packages\\sklearn\\ensemble\\iforest.py:247: FutureWarning: behaviour=\"old\" is deprecated and will be removed in version 0.22. Please use behaviour=\"new\", which makes the decision_function change to match other anomaly detection algorithm API.\n",
      "  FutureWarning)\n",
      "C:\\Users\\caioa\\Anaconda3\\lib\\site-packages\\sklearn\\ensemble\\iforest.py:247: FutureWarning: behaviour=\"old\" is deprecated and will be removed in version 0.22. Please use behaviour=\"new\", which makes the decision_function change to match other anomaly detection algorithm API.\n",
      "  FutureWarning)\n"
     ]
    },
    {
     "data": {
      "text/plain": [
       "XGBOD(base_score=0.5, booster='gbtree', colsample_bylevel=1,\n",
       "   colsample_bytree=1,\n",
       "   estimator_list=[KNN(algorithm='auto', contamination=0.1, leaf_size=30, method='largest',\n",
       "  metric='minkowski', metric_params=None, n_jobs=1, n_neighbors=1, p=2,\n",
       "  radius=1.0), KNN(algorithm='auto', contamination=0.1, leaf_size=30, method='mean',\n",
       "  metric='minkowski', metric_params=None, n_jobs=1, n_...ax_features=1.0,\n",
       "    max_samples='auto', n_estimators=250, n_jobs=1, random_state=0,\n",
       "    verbose=0)],\n",
       "   gamma=0, learning_rate=0.1, max_delta_step=0, max_depth=3,\n",
       "   min_child_weight=1, missing=None, n_estimators=100, n_jobs=1,\n",
       "   nthread=None, objective='binary:logistic', random_state=0, reg_alpha=0,\n",
       "   reg_lambda=1, scale_pos_weight=1, silent=True,\n",
       "   standardization_flag_list=[True, True, True, True, True, True, True, True, True, True, True, True, True, True, True, True, True, True, True, True, True, True, True, True, True, True, True, True, True, True, True, True, True, True, True, True, True, True, True, False, False, False, False, False, False, False, False, False, False, True, True, True, True, True, True, True, True, True, True, True, False, False, False, False, False, False, False, False],\n",
       "   subsample=1)"
      ]
     },
     "execution_count": 44,
     "metadata": {},
     "output_type": "execute_result"
    }
   ],
   "source": [
    "clf_name = 'XGBOD'\n",
    "#clf = KNN(contamination = 0.17293680147540488)\n",
    "clf = XGBOD()\n",
    "clf.fit(trainingSet, y_training) "
   ]
  },
  {
   "cell_type": "code",
   "execution_count": 45,
   "metadata": {},
   "outputs": [
    {
     "data": {
      "text/plain": [
       "array([1, 1, 1, ..., 0, 0, 0])"
      ]
     },
     "execution_count": 45,
     "metadata": {},
     "output_type": "execute_result"
    }
   ],
   "source": [
    "y_train_pred = clf.labels_  # binary labels (0: inliers, 1: outliers)\n",
    "y_train_scores = clf.decision_scores_  # raw outlier scores\n",
    "\n",
    "y_test_pred = clf.predict(testingSet)  # outlier labels (0 or 1)\n",
    "y_test_scores = clf.decision_function(testingSet)  # outlier scores\n",
    "\n",
    "y_test_pred"
   ]
  },
  {
   "cell_type": "code",
   "execution_count": 46,
   "metadata": {},
   "outputs": [
    {
     "name": "stdout",
     "output_type": "stream",
     "text": [
      "\n",
      "On Test Data:\n",
      "(59633,)\n",
      "(59633,)\n",
      "10247  |  64\n",
      "9  |  49313 \n",
      "\n",
      "XGBOD ROC:1.0, precision @ rank n:0.9971\n"
     ]
    }
   ],
   "source": [
    "from pyod.utils.data import evaluate_print\n",
    "\n",
    "print(\"\\nOn Test Data:\")\n",
    "truePositive = 0\n",
    "trueNegative = 0\n",
    "falsePositive = 0\n",
    "falseNegative = 0\n",
    "\n",
    "#print(y_test.shape)\n",
    "#print(y_test_pred.shape)\n",
    "\n",
    "for i in range(y_test.size):\n",
    "    if(y_test[i] == 1 and y_test_pred[i] == 1):\n",
    "        truePositive = truePositive+1\n",
    "    elif (y_test[i] == 0 and y_test_pred[i] == 0):\n",
    "        trueNegative = trueNegative+1\n",
    "    elif (y_test[i] == 0 and y_test_pred[i] == 1):\n",
    "        falsePositive = falsePositive+1\n",
    "    else:\n",
    "        falseNegative = falseNegative+1\n",
    "\n",
    "print(truePositive, \" | \", falsePositive)\n",
    "print(falseNegative, \" | \", trueNegative,\"\\n\")\n",
    "\n",
    "evaluate_print(\"XGBOD\", y_test, y_test_scores)"
   ]
  },
  {
   "cell_type": "code",
   "execution_count": null,
   "metadata": {},
   "outputs": [],
   "source": []
  }
 ],
 "metadata": {
  "kernelspec": {
   "display_name": "Python 3",
   "language": "python",
   "name": "python3"
  },
  "language_info": {
   "codemirror_mode": {
    "name": "ipython",
    "version": 3
   },
   "file_extension": ".py",
   "mimetype": "text/x-python",
   "name": "python",
   "nbconvert_exporter": "python",
   "pygments_lexer": "ipython3",
   "version": "3.7.2"
  }
 },
 "nbformat": 4,
 "nbformat_minor": 2
}

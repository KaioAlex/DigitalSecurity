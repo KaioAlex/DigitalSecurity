{
 "cells": [
  {
   "cell_type": "code",
   "execution_count": 1,
   "metadata": {},
   "outputs": [],
   "source": [
    "import pandas as pd\n",
    "import numpy as np\n",
    "import pyod\n",
    "import matplotlib.pyplot as pyplot\n",
    "import matplotlib.pyplot as plt\n",
    "import sklearn.metrics as metrics\n",
    "from sklearn import preprocessing\n",
    "\n",
    "np.set_printoptions(precision=3)"
   ]
  },
  {
   "cell_type": "code",
   "execution_count": 2,
   "metadata": {},
   "outputs": [
    {
     "name": "stderr",
     "output_type": "stream",
     "text": [
      "C:\\Users\\andre\\Anaconda3\\envs\\security\\lib\\site-packages\\IPython\\core\\interactiveshell.py:3058: DtypeWarning: Columns (21,22) have mixed types. Specify dtype option on import or set low_memory=False.\n",
      "  interactivity=interactivity, compiler=compiler, result=result)\n"
     ]
    }
   ],
   "source": [
    "testing_set = pd.read_csv('../Unbalanced_Samples/Sample_60K.csv',sep=',',header=0)\n",
    "training_set = pd.read_csv('../Balanced_Samples/Sample_100K.csv',sep=',',header=0)"
   ]
  },
  {
   "cell_type": "code",
   "execution_count": 3,
   "metadata": {},
   "outputs": [],
   "source": [
    "#transforma dados categóricos em números\n",
    "for f in testing_set.columns: \n",
    "    if testing_set[f].dtype=='object': \n",
    "        label = preprocessing.LabelEncoder() \n",
    "        label.fit(list(testing_set[f].values)) \n",
    "        testing_set[f] = label.transform(list(testing_set[f].values))\n",
    "    \n",
    "testingSet = testing_set.values\n",
    "np.random.shuffle(testingSet)\n",
    "\n",
    "testingSet = testingSet.astype(float)\n",
    "\n",
    "for i in range (2*10**4-1, 0, -1):\n",
    "    for j in range(0, 6):\n",
    "        testingSet[i, j] = float(testingSet[i, j])\n",
    "        if (np.isinf(testingSet[i, j]) or np.isnan(testingSet[i, j])):\n",
    "            testingSet = np.delete(testingSet, i, axis=0)\n",
    "\n",
    "y_test = testingSet[:, 84].astype(int)"
   ]
  },
  {
   "cell_type": "code",
   "execution_count": null,
   "metadata": {},
   "outputs": [],
   "source": [
    "#transforma dados categóricos em números\n",
    "for f in training_set.columns: \n",
    "    if training_set[f].dtype=='object': \n",
    "        label = preprocessing.LabelEncoder() \n",
    "        label.fit(list(training_set[f].values)) \n",
    "        testing_set[f] = label.transform(list(testing_set[f].values))\n",
    "    \n",
    "testingSet = testing_set.values\n",
    "np.random.shuffle(testingSet)\n",
    "\n",
    "testingSet = testingSet.astype(float)\n",
    "\n",
    "for i in range (2*10**4-1, 0, -1):\n",
    "    for j in range(0, 6):\n",
    "        testingSet[i, j] = float(testingSet[i, j])\n",
    "        if (np.isinf(testingSet[i, j]) or np.isnan(testingSet[i, j])):\n",
    "            testingSet = np.delete(testingSet, i, axis=0)\n",
    "\n",
    "y_test = testingSet[:, 84].astype(int)"
   ]
  }
 ],
 "metadata": {
  "kernelspec": {
   "display_name": "Python 3",
   "language": "python",
   "name": "python3"
  },
  "language_info": {
   "codemirror_mode": {
    "name": "ipython",
    "version": 3
   },
   "file_extension": ".py",
   "mimetype": "text/x-python",
   "name": "python",
   "nbconvert_exporter": "python",
   "pygments_lexer": "ipython3",
   "version": "3.7.3"
  }
 },
 "nbformat": 4,
 "nbformat_minor": 2
}
